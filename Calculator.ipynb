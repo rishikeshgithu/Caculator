{
 "cells": [
  {
   "cell_type": "code",
   "execution_count": 5,
   "metadata": {},
   "outputs": [],
   "source": [
    "import tkinter as tk \n",
    "from tkinter import *\n",
    "\n",
    "app=tk.Tk()\n",
    "\n",
    "app.geometry(\"170x230\") #This is the size of the opening screen\n",
    "app.title(\"Calculator\") #This add's Title to the application\n",
    "app.maxsize(170,230)    #This is the maxsize of the applcation window\n",
    "app.minsize(170,230)    #This is the minsize of the applcation window\n",
    "\n",
    "app.mainloop()          #This is the mainsize Code to run application"
   ]
  }
 ],
 "metadata": {
  "kernelspec": {
   "display_name": "Python 3.8.8 ('base')",
   "language": "python",
   "name": "python3"
  },
  "language_info": {
   "codemirror_mode": {
    "name": "ipython",
    "version": 3
   },
   "file_extension": ".py",
   "mimetype": "text/x-python",
   "name": "python",
   "nbconvert_exporter": "python",
   "pygments_lexer": "ipython3",
   "version": "3.8.8"
  },
  "orig_nbformat": 4,
  "vscode": {
   "interpreter": {
    "hash": "2f155fbeb9494e5ce992090b8427abe3542dae7719d8ea0d05cb0b78608edd18"
   }
  }
 },
 "nbformat": 4,
 "nbformat_minor": 2
}
